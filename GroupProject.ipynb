{
 "cells": [
  {
   "cell_type": "code",
   "execution_count": 1,
   "id": "a00e19f4",
   "metadata": {},
   "outputs": [],
   "source": [
    "import pandas as pd\n",
    "import numpy as np\n",
    "import matplotlib\n",
    "import matplotlib.pyplot as plt\n",
    "\n",
    "import sklearn.preprocessing as skl_pre\n",
    "import sklearn.linear_model as skl_lm\n",
    "import sklearn.discriminant_analysis as skl_da\n",
    "import sklearn.neighbors as skl_nb\n",
    "import sklearn.model_selection as skl_ms\n",
    "\n",
    "import warnings\n",
    "warnings.filterwarnings('ignore') # Suppress skl k-NN param warnings \n",
    "\n",
    "from sklearn import tree\n",
    "from sklearn.ensemble import AdaBoostClassifier, GradientBoostingClassifier, BaggingClassifier, RandomForestClassifier\n"
   ]
  },
  {
   "cell_type": "markdown",
   "id": "c6a362a6",
   "metadata": {},
   "source": [
    "# This is a Markdown cell\n",
    "Here we can write stuff, including LaTeX commands. To create one, go to the menu call at the top, then Cell $\\rightarrow$ Cell Type $\\rightarrow$ Markdown.\n",
    "\n",
    "Here is a matrix\n",
    "$$\n",
    "\\textbf{X} =  \\begin{bmatrix}\n",
    "    1 & 2 \\\\\n",
    "    1 & 3 \\\\ \n",
    "\\end{bmatrix}\n",
    "$$"
   ]
  },
  {
   "cell_type": "code",
   "execution_count": null,
   "id": "85a46a33",
   "metadata": {},
   "outputs": [],
   "source": []
  },
  {
   "cell_type": "markdown",
   "id": "421d4e8b",
   "metadata": {},
   "source": [
    "# 3 Data analysis task\n",
    "\n",
    "The first step – before we start to build a model – is always to take a closer look at the data by\n",
    "analyzing some statistics of the data set. In this step you can already gain some insights into the data\n",
    "which helps you interpret the results of your methods later in the project.\n",
    "Look into the provided data set by e.g. plotting the individual features. Based on your analysis,\n",
    "answer the following questions:\n",
    "\n",
    "- Do men or women dominate speaking roles in Hollywood movies?\n",
    "- Has gender balance in speaking roles changed over time (i.e. years)?\n",
    "- Do films in which men do more speaking make a lot more money than films in which women speak more?\n",
    "\n",
    "Write 1-2 sentences for each question and support your findings with evidence (statistics, plots, ...)."
   ]
  },
  {
   "cell_type": "code",
   "execution_count": null,
   "id": "73797e1c",
   "metadata": {},
   "outputs": [],
   "source": []
  },
  {
   "cell_type": "code",
   "execution_count": null,
   "id": "048bc026",
   "metadata": {},
   "outputs": [],
   "source": []
  },
  {
   "cell_type": "code",
   "execution_count": null,
   "id": "f4c9e74b",
   "metadata": {},
   "outputs": [],
   "source": []
  },
  {
   "cell_type": "markdown",
   "id": "345afd57",
   "metadata": {},
   "source": [
    "# 4 Implementation of Methods\n",
    "## 4.1 Methods to explore\n",
    "The course has (so far) covered the five following ‘families’ of classification methods:\n",
    "\n",
    "- logistic regression\n",
    "- discriminant analysis: LDA, QDA\n",
    "- K-nearest neighbor\n",
    "- Tree-based methods: classification trees, random forests, bagging\n",
    "- Boosting\n",
    "\n",
    "In this project, you decide upon at least as many ‘families’ as you are group members, and decide in\n",
    "each ‘family’ at least one method to explore. To be clear, **each group member should independently\n",
    "implement and write about one method.** Who implemented which method should later be clearly\n",
    "written in the contribution statement. All group members should be able to stand for all sections of\n",
    "the report.\n",
    "\n",
    "**Additionally**, you should include a naive classifier that always predicts male as the lead actor in your\n",
    "analysis and compare its performance with your methods.\n",
    "\n",
    "*Deep learning, which will be covered later, is also possible to use for classification. You are of course\n",
    "welcome to explore this as well, in addition to the minimum requirements.*\n",
    "\n",
    "## 4.2 What to do with each method\n",
    "For *each* method you decide to explore, you should do the following:\n",
    "\n",
    "1. Implement the method. We suggest that you use Python, and you may write your own code or use packages (the material from the problem solving sessions can be useful).\n",
    "2. Tune the method to perform well.\n",
    "3. Evaluate its performance using, e.g., cross validation. Exactly how to carry this out is up for you to decide.\n",
    "\n",
    "Once you have completed the aforementioned tasks, you should with a good motivation (hint: cross\n",
    "validation) select which method you decide to use ‘in production’ on a test set that will be made\n",
    "available later. **Work on this part of the project together and write the results together.**"
   ]
  },
  {
   "cell_type": "code",
   "execution_count": null,
   "id": "8d216f3d",
   "metadata": {},
   "outputs": [],
   "source": []
  },
  {
   "cell_type": "code",
   "execution_count": null,
   "id": "47cc73f8",
   "metadata": {},
   "outputs": [],
   "source": []
  },
  {
   "cell_type": "code",
   "execution_count": null,
   "id": "d654d35f",
   "metadata": {},
   "outputs": [],
   "source": []
  },
  {
   "cell_type": "code",
   "execution_count": null,
   "id": "31732734",
   "metadata": {},
   "outputs": [],
   "source": []
  }
 ],
 "metadata": {
  "kernelspec": {
   "display_name": "Python 3 (ipykernel)",
   "language": "python",
   "name": "python3"
  },
  "language_info": {
   "codemirror_mode": {
    "name": "ipython",
    "version": 3
   },
   "file_extension": ".py",
   "mimetype": "text/x-python",
   "name": "python",
   "nbconvert_exporter": "python",
   "pygments_lexer": "ipython3",
   "version": "3.9.13"
  }
 },
 "nbformat": 4,
 "nbformat_minor": 5
}
