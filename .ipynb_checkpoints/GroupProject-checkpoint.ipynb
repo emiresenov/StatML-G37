{
 "cells": [
  {
   "cell_type": "code",
   "execution_count": 1,
   "id": "67748b41",
   "metadata": {},
   "outputs": [],
   "source": [
    "import pandas as pd\n",
    "import numpy as np\n",
    "import matplotlib\n",
    "import matplotlib.pyplot as plt\n",
    "\n",
    "import sklearn.preprocessing as skl_pre\n",
    "import sklearn.linear_model as skl_lm\n",
    "import sklearn.discriminant_analysis as skl_da\n",
    "import sklearn.neighbors as skl_nb\n",
    "import sklearn.model_selection as skl_ms\n",
    "\n",
    "#import warnings\n",
    "#warnings.filterwarnings('ignore') # Suppress skl k-NN param warnings \n",
    "\n",
    "from sklearn import tree\n",
    "from sklearn.ensemble import AdaBoostClassifier, GradientBoostingClassifier, BaggingClassifier, RandomForestClassifier\n",
    "\n",
    "import graphviz"
   ]
  },
  {
   "cell_type": "markdown",
   "id": "b5b844bf",
   "metadata": {},
   "source": [
    "# This is a Markdown cell\n",
    "Here we can write stuff, including LaTeX commands. To create one, go to the menu call at the top, then Cell $\\rightarrow$ Cell Type $\\rightarrow$ Markdown\n",
    "$$\n",
    "\\textbf{X} =  \\begin{bmatrix}\n",
    "    1 & 2 \\\\\n",
    "    1 & 3 \\\\ \n",
    "\\end{bmatrix}\n",
    "$$"
   ]
  },
  {
   "cell_type": "code",
   "execution_count": null,
   "id": "db73b48e",
   "metadata": {},
   "outputs": [],
   "source": []
  }
 ],
 "metadata": {
  "kernelspec": {
   "display_name": "Python 3 (ipykernel)",
   "language": "python",
   "name": "python3"
  },
  "language_info": {
   "codemirror_mode": {
    "name": "ipython",
    "version": 3
   },
   "file_extension": ".py",
   "mimetype": "text/x-python",
   "name": "python",
   "nbconvert_exporter": "python",
   "pygments_lexer": "ipython3",
   "version": "3.9.13"
  }
 },
 "nbformat": 4,
 "nbformat_minor": 5
}
